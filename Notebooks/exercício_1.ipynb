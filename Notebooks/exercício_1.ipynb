{
  "nbformat": 4,
  "nbformat_minor": 0,
  "metadata": {
    "colab": {
      "provenance": []
    },
    "kernelspec": {
      "name": "python3",
      "display_name": "Python 3"
    },
    "language_info": {
      "name": "python"
    }
  },
  "cells": [
    {
      "cell_type": "code",
      "source": [
        "import pandas as pd\n",
        "import matplotlib.pyplot as plt\n"
      ],
      "metadata": {
        "id": "q6lbkP7REVBQ"
      },
      "execution_count": null,
      "outputs": []
    },
    {
      "cell_type": "code",
      "execution_count": null,
      "metadata": {
        "id": "vHEGqUkhDdQY"
      },
      "outputs": [],
      "source": [
        "\n",
        "\n",
        "caminho.dados = 'nome_do_arquivo.csv'\n",
        "\n",
        "# Substitua 'nome_do_arquivo.csv' pelo nome do seu arquivo CSV\n",
        "df = pd.read_csv(caminho.dados)\n",
        "\n",
        "# Exibe as primeiras linhas do DataFrame para verificar se a importação foi bem-sucedida\n",
        "print(df.head())"
      ]
    },
    {
      "cell_type": "code",
      "source": [
        "# Figura 1\n",
        "# Criar o primeiro gráfico de dispersão (var1 vs y)\n",
        "plt.figure(figsize=(8, 6))  # Ajustar o tamanho da figura, se necessário\n",
        "plt.scatter(df['var1'], df['y'])\n",
        "plt.xlabel('var1')\n",
        "plt.ylabel('y')\n",
        "plt.title('Gráfico de Dispersão: var1 vs y')\n",
        "plt.show()\n",
        "\n",
        "# Criar o segundo gráfico de dispersão (var2 vs y)\n",
        "plt.figure(figsize=(8, 6))  # Ajustar o tamanho da figura, se necessário\n",
        "plt.scatter(df['var2'], df['y'])\n",
        "plt.xlabel('var2')\n",
        "plt.ylabel('y')\n",
        "plt.title('Gráfico de Dispersão: var2 vs y')\n",
        "plt.show()\n"
      ],
      "metadata": {
        "id": "-PZ1yzXLDuKK"
      },
      "execution_count": null,
      "outputs": []
    },
    {
      "cell_type": "code",
      "source": [
        "# Figura 2\n",
        "plt.figure(figsize=(8, 6))  # Ajustar o tamanho da figura, se necessário\n",
        "plt.scatter(df['var1'], df['var2'])\n",
        "plt.xlabel('var1')\n",
        "plt.ylabel('var2')\n",
        "plt.title('Gráfico de Dispersão: var1 vs var2')\n",
        "plt.show()\n"
      ],
      "metadata": {
        "id": "98oqyo4UDvkW"
      },
      "execution_count": null,
      "outputs": []
    }
  ]
}